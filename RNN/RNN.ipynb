{
 "cells": [
  {
   "cell_type": "code",
   "execution_count": 24,
   "metadata": {},
   "outputs": [],
   "source": [
    "import torch\n",
    "import torch.nn as nn\n",
    "\n",
    "# MNIST 분류를 위한 MyRNN 설계 \n",
    "class MyRNN(nn.Module):\n",
    "    def __init__(self, input_size, hidden_size, output_size): \n",
    "        super(MyRNN, self).__init__()\n",
    "        self.hidden_size = hidden_size\n",
    "        \n",
    "        # 순차 데이터 처리를 위한 RNN layer\n",
    "        self.rnn = nn.RNN(input_size, hidden_size, batch_first=True)\n",
    "        \n",
    "        # 분류를 위한 fully connected layer\n",
    "        self.fc = nn.Linear(hidden_size, output_size)\n",
    "        \n",
    "    def forward(self, x): # x: [batch_size, seq_length, input_size] \n",
    "        # 초기 hidden state\n",
    "        h0 = torch.zeros(1, x.size(0), self.hidden_size).to(x.device)\n",
    "        # RNN 출력\n",
    "        out, _ = self.rnn(x, h0)\n",
    "        # 마지막 시퀀스의 출력만 사용 \n",
    "        out = out[:, -1, :]\n",
    "        # 마지막출력을 fully connected layer를 통해 최종 예측결과출력 \n",
    "        out = self.fc(out)\n",
    "        return out"
   ]
  },
  {
   "cell_type": "code",
   "execution_count": 30,
   "metadata": {},
   "outputs": [
    {
     "ename": "FileNotFoundError",
     "evalue": "[Errno 2] No such file or directory",
     "output_type": "error",
     "traceback": [
      "\u001b[0;31m---------------------------------------------------------------------------\u001b[0m",
      "\u001b[0;31mFileNotFoundError\u001b[0m                         Traceback (most recent call last)",
      "Cell \u001b[0;32mIn[30], line 2\u001b[0m\n\u001b[1;32m      1\u001b[0m \u001b[38;5;28;01mimport\u001b[39;00m \u001b[38;5;21;01mos\u001b[39;00m\n\u001b[0;32m----> 2\u001b[0m \u001b[38;5;28mprint\u001b[39m(os\u001b[38;5;241m.\u001b[39mgetcwd())\n",
      "\u001b[0;31mFileNotFoundError\u001b[0m: [Errno 2] No such file or directory"
     ]
    }
   ],
   "source": [
    "import os\n",
    "print(os.getcwd())"
   ]
  },
  {
   "cell_type": "code",
   "execution_count": 28,
   "metadata": {},
   "outputs": [
    {
     "ename": "FileNotFoundError",
     "evalue": "[Errno 2] No such file or directory",
     "output_type": "error",
     "traceback": [
      "\u001b[0;31m---------------------------------------------------------------------------\u001b[0m",
      "\u001b[0;31mFileNotFoundError\u001b[0m                         Traceback (most recent call last)",
      "Cell \u001b[0;32mIn[28], line 6\u001b[0m\n\u001b[1;32m      4\u001b[0m \u001b[38;5;66;03m# 데이터 저장 경로 지정\u001b[39;00m\n\u001b[1;32m      5\u001b[0m data_dir \u001b[38;5;241m=\u001b[39m \u001b[38;5;124m'\u001b[39m\u001b[38;5;124m./MNIST_RNN_data\u001b[39m\u001b[38;5;124m'\u001b[39m\n\u001b[0;32m----> 6\u001b[0m \u001b[38;5;28mprint\u001b[39m(os\u001b[38;5;241m.\u001b[39mgetcwd())\n\u001b[1;32m      7\u001b[0m \u001b[38;5;66;03m# 디렉토리가 없다면 생성\u001b[39;00m\n\u001b[1;32m      8\u001b[0m \u001b[38;5;28;01mtry\u001b[39;00m:\n",
      "\u001b[0;31mFileNotFoundError\u001b[0m: [Errno 2] No such file or directory"
     ]
    }
   ],
   "source": [
    "import os\n",
    "from torchvision import datasets, transforms\n",
    "\n",
    "# 데이터 저장 경로 지정\n",
    "data_dir = './MNIST_RNN_data'\n",
    "print(os.getcwd())\n",
    "# 디렉토리가 없다면 생성\n",
    "try:\n",
    "    if not os.path.exists(data_dir):\n",
    "        os.makedirs(data_dir)\n",
    "except OSError as e:\n",
    "    print(f\"Error: {data_dir}를 생성할 수 없습니다.\")\n",
    "    \n",
    "train_dataset = datasets.MNIST(root=data_dir, train=True, download=True, transform=transforms.ToTensor()) \n",
    "test_dataset = datasets.MNIST(root=data_dir, train=False, download=True, transform=transforms.ToTensor())\n"
   ]
  },
  {
   "cell_type": "code",
   "execution_count": null,
   "metadata": {},
   "outputs": [],
   "source": [
    "from torch.utils.data import DataLoader  # PyTorch에서 제공하는 DataLoader, 배치 크기 만큼의 데이터를 쉽게 불러올 수 있음\n",
    "input_size = 28  # (28)*28\n",
    "hidden_size = 128\n",
    "output_size = 10  # 10개\n",
    "learning_rate = 0.001\n",
    "batch_size = 64\n",
    "num_epochs = 5\n",
    "# Create DataLoader for training and test datasets\n",
    "train_loader = DataLoader(dataset=train_dataset, batch_size=batch_size, shuffle=True)\n",
    "test_loader = DataLoader(dataset=test_dataset, batch_size=batch_size, shuffle=False)"
   ]
  },
  {
   "cell_type": "code",
   "execution_count": null,
   "metadata": {},
   "outputs": [
    {
     "name": "stdout",
     "output_type": "stream",
     "text": [
      "Epoch 1, Loss: 1.6372128359353872\n",
      "Epoch 2, Loss: 0.6127837694434723\n",
      "Epoch 3, Loss: 0.4456999868805856\n",
      "Epoch 4, Loss: 0.3777586601928734\n",
      "Epoch 5, Loss: 0.3174789589085082\n"
     ]
    }
   ],
   "source": [
    "from torch import nn, optim\n",
    "\n",
    "model = MyRNN(input_size, hidden_size, output_size)\n",
    "\n",
    "# 손실 함수(loss function)을 교차 엔트로피(cross entropy)함수로 정의\n",
    "criterion = nn.CrossEntropyLoss()\n",
    "\n",
    "# 학습 방법을 Adam으로 정의\n",
    "optimizer = optim.Adam(model.parameters(), lr=0.001)\n",
    "\n",
    "# Training loop\n",
    "for epoch in range(num_epochs):\n",
    "    model.train() # 학습모드\n",
    "    # loss 출력을 위한 변수 \n",
    "    running_loss = 0.0\n",
    "    # DataLoader가 배치 크기만큼의 데이터와 레이블을 각 반복마다 로드함 \n",
    "    for images, labels in train_loader:\n",
    "        images = images.view(-1, 28, 28)  # shape 조정 [batch_size, seq_length, input_size]\n",
    "        # 미분은 누적되기 때문에 초기화 수행 \n",
    "        optimizer.zero_grad()\n",
    "        outputs = model(images)\n",
    "        # outputs, labels를 통해 손실(loss) 계산 \n",
    "        loss = criterion(outputs, labels)\n",
    "        # 손실에 대한 미분(gradient) 역전파(back propagation) \n",
    "        loss.backward()\n",
    "        # 가중치 업데이트 \n",
    "        optimizer.step()\n",
    "\n",
    "        # 손실 합산\n",
    "        running_loss += loss.item()\n",
    "        running_loss += loss.item()\n",
    "    print(f'Epoch {epoch+1}, Loss: {running_loss / len(train_loader)}')\n",
    "\n"
   ]
  },
  {
   "cell_type": "code",
   "execution_count": null,
   "metadata": {},
   "outputs": [
    {
     "name": "stdout",
     "output_type": "stream",
     "text": [
      "Accuracy of RNN in the 10000 test images: 96.15%\n"
     ]
    }
   ],
   "source": [
    "# Evaluation on test set\n",
    "correct_prediction = 0\n",
    "total_prediction = 0\n",
    "\n",
    "model.eval() \n",
    "# 테스트모드(드롭아웃(dropout)이나 배치 정규화(batch normalization)와 같은 학습 중에만 활성화되는 기능을 포함하고 있다면, 추론(inference) 시에는 이러한 기능을 비활성화)\n",
    "\n",
    "# 테스트에서는 미분 계산이 필요 없음 #파이토치 자동미분 차단\n",
    "with torch.no_grad():\n",
    "    # 테스트 데이터셋에 대한 데이터로더 \n",
    "    for images, labels in test_loader:\n",
    "        images = images.view(-1, 28, 28)\n",
    "        outputs = model(images)\n",
    "        _, predicted = torch.max(outputs.data, 1)\n",
    "        total_prediction += labels.size(0)\n",
    "        # 예측(pred)과 정답(labels)가 일치하는 수만큼 합산 \n",
    "        correct_prediction += (predicted == labels).sum().item()\n",
    "print('Accuracy of RNN in the 10000 test images: {:.2f}%'.format(100 * correct_prediction / total_prediction))"
   ]
  }
 ],
 "metadata": {
  "kernelspec": {
   "display_name": "pyTorch_2024",
   "language": "python",
   "name": "python3"
  },
  "language_info": {
   "codemirror_mode": {
    "name": "ipython",
    "version": 3
   },
   "file_extension": ".py",
   "mimetype": "text/x-python",
   "name": "python",
   "nbconvert_exporter": "python",
   "pygments_lexer": "ipython3",
   "version": "3.11.5"
  }
 },
 "nbformat": 4,
 "nbformat_minor": 2
}
